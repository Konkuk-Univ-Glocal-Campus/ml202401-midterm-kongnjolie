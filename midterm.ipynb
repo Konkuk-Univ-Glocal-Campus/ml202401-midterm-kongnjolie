{
 "cells": [
  {
   "cell_type": "code",
   "execution_count": 1,
   "metadata": {},
   "outputs": [],
   "source": [
    "#요일별&시간대별 교통사고 데이터와 월별&요일별 데이터를 사용하여\n",
    "#월별(계절), 요일별(주말, 공휴일 등), 시간대별(출퇴근시간)로 교통사고 어떻게 발생하는지 분석하는 것을 목표로 설정하였습니다. \n",
    "import pandas as pd"
   ]
  },
  {
   "cell_type": "code",
   "execution_count": 14,
   "metadata": {},
   "outputs": [
    {
     "data": {
      "text/html": [
       "<div>\n",
       "<style scoped>\n",
       "    .dataframe tbody tr th:only-of-type {\n",
       "        vertical-align: middle;\n",
       "    }\n",
       "\n",
       "    .dataframe tbody tr th {\n",
       "        vertical-align: top;\n",
       "    }\n",
       "\n",
       "    .dataframe thead th {\n",
       "        text-align: right;\n",
       "    }\n",
       "</style>\n",
       "<table border=\"1\" class=\"dataframe\">\n",
       "  <thead>\n",
       "    <tr style=\"text-align: right;\">\n",
       "      <th></th>\n",
       "      <th>요일</th>\n",
       "      <th>시간대</th>\n",
       "      <th>사고건수</th>\n",
       "      <th>사망자수</th>\n",
       "      <th>중상자수</th>\n",
       "      <th>경상자수</th>\n",
       "      <th>부상신고자수</th>\n",
       "    </tr>\n",
       "  </thead>\n",
       "  <tbody>\n",
       "    <tr>\n",
       "      <th>0</th>\n",
       "      <td>일</td>\n",
       "      <td>00시-02시</td>\n",
       "      <td>1208</td>\n",
       "      <td>21</td>\n",
       "      <td>331</td>\n",
       "      <td>1441</td>\n",
       "      <td>119</td>\n",
       "    </tr>\n",
       "    <tr>\n",
       "      <th>1</th>\n",
       "      <td>일</td>\n",
       "      <td>02시-04시</td>\n",
       "      <td>664</td>\n",
       "      <td>24</td>\n",
       "      <td>211</td>\n",
       "      <td>674</td>\n",
       "      <td>64</td>\n",
       "    </tr>\n",
       "    <tr>\n",
       "      <th>2</th>\n",
       "      <td>일</td>\n",
       "      <td>04시-06시</td>\n",
       "      <td>541</td>\n",
       "      <td>21</td>\n",
       "      <td>165</td>\n",
       "      <td>542</td>\n",
       "      <td>58</td>\n",
       "    </tr>\n",
       "    <tr>\n",
       "      <th>3</th>\n",
       "      <td>일</td>\n",
       "      <td>06시-08시</td>\n",
       "      <td>623</td>\n",
       "      <td>18</td>\n",
       "      <td>183</td>\n",
       "      <td>658</td>\n",
       "      <td>43</td>\n",
       "    </tr>\n",
       "    <tr>\n",
       "      <th>4</th>\n",
       "      <td>일</td>\n",
       "      <td>08시-10시</td>\n",
       "      <td>1132</td>\n",
       "      <td>26</td>\n",
       "      <td>339</td>\n",
       "      <td>1297</td>\n",
       "      <td>108</td>\n",
       "    </tr>\n",
       "  </tbody>\n",
       "</table>\n",
       "</div>"
      ],
      "text/plain": [
       "  요일      시간대  사고건수  사망자수  중상자수  경상자수  부상신고자수\n",
       "0  일  00시-02시  1208    21   331  1441     119\n",
       "1  일  02시-04시   664    24   211   674      64\n",
       "2  일  04시-06시   541    21   165   542      58\n",
       "3  일  06시-08시   623    18   183   658      43\n",
       "4  일  08시-10시  1132    26   339  1297     108"
      ]
     },
     "execution_count": 14,
     "metadata": {},
     "output_type": "execute_result"
    }
   ],
   "source": [
    "df=pd.read_csv(\"도로교통공단_요일별 시간대별 교통사고 통계_20221231.csv\", encoding='cp949')\n",
    "df.head()"
   ]
  }
 ],
 "metadata": {
  "kernelspec": {
   "display_name": "Python 3",
   "language": "python",
   "name": "python3"
  },
  "language_info": {
   "codemirror_mode": {
    "name": "ipython",
    "version": 3
   },
   "file_extension": ".py",
   "mimetype": "text/x-python",
   "name": "python",
   "nbconvert_exporter": "python",
   "pygments_lexer": "ipython3",
   "version": "3.10.13"
  }
 },
 "nbformat": 4,
 "nbformat_minor": 2
}
